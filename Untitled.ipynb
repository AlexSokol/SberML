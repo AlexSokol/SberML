{
 "cells": [
  {
   "cell_type": "code",
   "execution_count": 177,
   "metadata": {},
   "outputs": [],
   "source": [
    "!pip install numpy --quiet\n",
    "!pip install tensorflow --quiet\n",
    "!pip install pandas --quiet\n",
    "!pip install keras --quiet\n",
    "!pip install d2l --quiet"
   ]
  },
  {
   "cell_type": "code",
   "execution_count": 178,
   "metadata": {},
   "outputs": [
    {
     "name": "stdout",
     "output_type": "stream",
     "text": [
      "Requirement already satisfied: pandas in /Users/aleksandrsokolov/opt/anaconda3/lib/python3.8/site-packages (1.1.3)\n",
      "Requirement already satisfied: pytz>=2017.2 in /Users/aleksandrsokolov/opt/anaconda3/lib/python3.8/site-packages (from pandas) (2020.1)\n",
      "Requirement already satisfied: python-dateutil>=2.7.3 in /Users/aleksandrsokolov/opt/anaconda3/lib/python3.8/site-packages (from pandas) (2.8.1)\n",
      "Requirement already satisfied: numpy>=1.15.4 in /Users/aleksandrsokolov/opt/anaconda3/lib/python3.8/site-packages (from pandas) (1.19.2)\n",
      "Requirement already satisfied: six>=1.5 in /Users/aleksandrsokolov/opt/anaconda3/lib/python3.8/site-packages (from python-dateutil>=2.7.3->pandas) (1.15.0)\n",
      "Requirement already satisfied: xlrd in /Users/aleksandrsokolov/opt/anaconda3/lib/python3.8/site-packages (1.2.0)\n",
      "Requirement already satisfied: sklearn in /Users/aleksandrsokolov/opt/anaconda3/lib/python3.8/site-packages (0.0)\n",
      "Requirement already satisfied: scikit-learn in /Users/aleksandrsokolov/opt/anaconda3/lib/python3.8/site-packages (from sklearn) (0.23.2)\n",
      "Requirement already satisfied: joblib>=0.11 in /Users/aleksandrsokolov/opt/anaconda3/lib/python3.8/site-packages (from scikit-learn->sklearn) (0.17.0)\n",
      "Requirement already satisfied: numpy>=1.13.3 in /Users/aleksandrsokolov/opt/anaconda3/lib/python3.8/site-packages (from scikit-learn->sklearn) (1.19.2)\n",
      "Requirement already satisfied: threadpoolctl>=2.0.0 in /Users/aleksandrsokolov/opt/anaconda3/lib/python3.8/site-packages (from scikit-learn->sklearn) (2.1.0)\n",
      "Requirement already satisfied: scipy>=0.19.1 in /Users/aleksandrsokolov/opt/anaconda3/lib/python3.8/site-packages (from scikit-learn->sklearn) (1.5.2)\n"
     ]
    }
   ],
   "source": [
    "!pip install pandas\n",
    "!pip install xlrd\n",
    "!pip install sklearn"
   ]
  },
  {
   "cell_type": "code",
   "execution_count": 179,
   "metadata": {},
   "outputs": [
    {
     "name": "stdout",
     "output_type": "stream",
     "text": [
      "Populating the interactive namespace from numpy and matplotlib\n"
     ]
    },
    {
     "name": "stderr",
     "output_type": "stream",
     "text": [
      "/Users/aleksandrsokolov/opt/anaconda3/lib/python3.8/site-packages/IPython/core/magics/pylab.py:159: UserWarning: pylab import has clobbered these variables: ['shuffle']\n",
      "`%matplotlib` prevents importing * from pylab and numpy\n",
      "  warn(\"pylab import has clobbered these variables: %s\"  % clobbered +\n"
     ]
    }
   ],
   "source": [
    "import pandas as pd\n",
    "from sklearn.utils import shuffle\n",
    "import numpy as np\n",
    "import matplotlib.pyplot as plt\n",
    "import seaborn as sns\n",
    "%pylab inline\n",
    "from sklearn.feature_extraction.text import *\n",
    "from sklearn.metrics import *\n",
    "from sklearn.pipeline import Pipeline\n",
    "from sklearn.linear_model import LogisticRegression\n",
    "from sklearn.model_selection import train_test_split\n",
    "from sklearn.feature_extraction.text import CountVectorizer, TfidfTransformer"
   ]
  },
  {
   "cell_type": "code",
   "execution_count": 180,
   "metadata": {},
   "outputs": [],
   "source": [
    "import pandas as pd"
   ]
  },
  {
   "cell_type": "code",
   "execution_count": 181,
   "metadata": {},
   "outputs": [
    {
     "data": {
      "text/html": [
       "<div>\n",
       "<style scoped>\n",
       "    .dataframe tbody tr th:only-of-type {\n",
       "        vertical-align: middle;\n",
       "    }\n",
       "\n",
       "    .dataframe tbody tr th {\n",
       "        vertical-align: top;\n",
       "    }\n",
       "\n",
       "    .dataframe thead th {\n",
       "        text-align: right;\n",
       "    }\n",
       "</style>\n",
       "<table border=\"1\" class=\"dataframe\">\n",
       "  <thead>\n",
       "    <tr style=\"text-align: right;\">\n",
       "      <th></th>\n",
       "      <th>diagnostic</th>\n",
       "      <th>service_id</th>\n",
       "      <th>agreement</th>\n",
       "      <th>services</th>\n",
       "      <th>user_requests</th>\n",
       "      <th>authentication</th>\n",
       "      <th>lost_carrier</th>\n",
       "      <th>admin_reset</th>\n",
       "      <th>disconnect_total</th>\n",
       "      <th>speed_by_tariff</th>\n",
       "      <th>...</th>\n",
       "      <th>uplink_2_bsr_sw_address</th>\n",
       "      <th>total_ping_measurements_count</th>\n",
       "      <th>ping_loss_rate_10</th>\n",
       "      <th>ping_loss_rate_20</th>\n",
       "      <th>ping_response_time_70_rate</th>\n",
       "      <th>cpe_wifi_disabled_rate</th>\n",
       "      <th>addendum_id</th>\n",
       "      <th>teo_id</th>\n",
       "      <th>point_plugin_id</th>\n",
       "      <th>client_name</th>\n",
       "    </tr>\n",
       "  </thead>\n",
       "  <tbody>\n",
       "    <tr>\n",
       "      <th>0</th>\n",
       "      <td>Низкая скорость по Wi-Fi</td>\n",
       "      <td>3</td>\n",
       "      <td>102003982541</td>\n",
       "      <td>Интернет Дом.ru,Дом.ru TV</td>\n",
       "      <td>0</td>\n",
       "      <td>PPPoE</td>\n",
       "      <td>0</td>\n",
       "      <td>0</td>\n",
       "      <td>0</td>\n",
       "      <td>0</td>\n",
       "      <td>...</td>\n",
       "      <td>0</td>\n",
       "      <td>0</td>\n",
       "      <td>0.0</td>\n",
       "      <td>0.0</td>\n",
       "      <td>0.0</td>\n",
       "      <td>0</td>\n",
       "      <td>0</td>\n",
       "      <td>0</td>\n",
       "      <td>0</td>\n",
       "      <td>0</td>\n",
       "    </tr>\n",
       "    <tr>\n",
       "      <th>1</th>\n",
       "      <td>Низкая скорость по Wi-Fi</td>\n",
       "      <td>2</td>\n",
       "      <td>102003982541</td>\n",
       "      <td>Интернет Дом.ru,Дом.ru TV</td>\n",
       "      <td>2</td>\n",
       "      <td>PPPoE</td>\n",
       "      <td>0</td>\n",
       "      <td>1</td>\n",
       "      <td>3</td>\n",
       "      <td>100</td>\n",
       "      <td>...</td>\n",
       "      <td>0</td>\n",
       "      <td>0</td>\n",
       "      <td>0.0</td>\n",
       "      <td>0.0</td>\n",
       "      <td>0.0</td>\n",
       "      <td>0</td>\n",
       "      <td>0</td>\n",
       "      <td>0</td>\n",
       "      <td>0</td>\n",
       "      <td>0</td>\n",
       "    </tr>\n",
       "    <tr>\n",
       "      <th>2</th>\n",
       "      <td>Низкая скорость по Wi-Fi</td>\n",
       "      <td>3</td>\n",
       "      <td>102003982541</td>\n",
       "      <td>Интернет Дом.ru,Дом.ru TV</td>\n",
       "      <td>0</td>\n",
       "      <td>PPPoE</td>\n",
       "      <td>0</td>\n",
       "      <td>0</td>\n",
       "      <td>0</td>\n",
       "      <td>0</td>\n",
       "      <td>...</td>\n",
       "      <td>0</td>\n",
       "      <td>0</td>\n",
       "      <td>0.0</td>\n",
       "      <td>0.0</td>\n",
       "      <td>0.0</td>\n",
       "      <td>0</td>\n",
       "      <td>0</td>\n",
       "      <td>0</td>\n",
       "      <td>0</td>\n",
       "      <td>0</td>\n",
       "    </tr>\n",
       "    <tr>\n",
       "      <th>3</th>\n",
       "      <td>Низкая скорость по Wi-Fi</td>\n",
       "      <td>2</td>\n",
       "      <td>102003982541</td>\n",
       "      <td>Интернет Дом.ru,Дом.ru TV</td>\n",
       "      <td>0</td>\n",
       "      <td>PPPoE</td>\n",
       "      <td>0</td>\n",
       "      <td>1</td>\n",
       "      <td>1</td>\n",
       "      <td>100</td>\n",
       "      <td>...</td>\n",
       "      <td>0</td>\n",
       "      <td>0</td>\n",
       "      <td>0.0</td>\n",
       "      <td>0.0</td>\n",
       "      <td>0.0</td>\n",
       "      <td>0</td>\n",
       "      <td>0</td>\n",
       "      <td>0</td>\n",
       "      <td>0</td>\n",
       "      <td>0</td>\n",
       "    </tr>\n",
       "    <tr>\n",
       "      <th>4</th>\n",
       "      <td>Пропадает соединение с интернет</td>\n",
       "      <td>2</td>\n",
       "      <td>102067649743</td>\n",
       "      <td>Интернет Дом.ru,Кабельное телевидение</td>\n",
       "      <td>9</td>\n",
       "      <td>PPPoE</td>\n",
       "      <td>0</td>\n",
       "      <td>0</td>\n",
       "      <td>9</td>\n",
       "      <td>50</td>\n",
       "      <td>...</td>\n",
       "      <td>0</td>\n",
       "      <td>0</td>\n",
       "      <td>0.0</td>\n",
       "      <td>0.0</td>\n",
       "      <td>0.0</td>\n",
       "      <td>0</td>\n",
       "      <td>0</td>\n",
       "      <td>0</td>\n",
       "      <td>0</td>\n",
       "      <td>0</td>\n",
       "    </tr>\n",
       "  </tbody>\n",
       "</table>\n",
       "<p>5 rows × 116 columns</p>\n",
       "</div>"
      ],
      "text/plain": [
       "                        diagnostic  service_id     agreement  \\\n",
       "0         Низкая скорость по Wi-Fi           3  102003982541   \n",
       "1         Низкая скорость по Wi-Fi           2  102003982541   \n",
       "2         Низкая скорость по Wi-Fi           3  102003982541   \n",
       "3         Низкая скорость по Wi-Fi           2  102003982541   \n",
       "4  Пропадает соединение с интернет           2  102067649743   \n",
       "\n",
       "                                services  user_requests authentication  \\\n",
       "0              Интернет Дом.ru,Дом.ru TV              0          PPPoE   \n",
       "1              Интернет Дом.ru,Дом.ru TV              2          PPPoE   \n",
       "2              Интернет Дом.ru,Дом.ru TV              0          PPPoE   \n",
       "3              Интернет Дом.ru,Дом.ru TV              0          PPPoE   \n",
       "4  Интернет Дом.ru,Кабельное телевидение              9          PPPoE   \n",
       "\n",
       "   lost_carrier  admin_reset  disconnect_total  speed_by_tariff  ...  \\\n",
       "0             0            0                 0                0  ...   \n",
       "1             0            1                 3              100  ...   \n",
       "2             0            0                 0                0  ...   \n",
       "3             0            1                 1              100  ...   \n",
       "4             0            0                 9               50  ...   \n",
       "\n",
       "   uplink_2_bsr_sw_address  total_ping_measurements_count  ping_loss_rate_10  \\\n",
       "0                        0                              0                0.0   \n",
       "1                        0                              0                0.0   \n",
       "2                        0                              0                0.0   \n",
       "3                        0                              0                0.0   \n",
       "4                        0                              0                0.0   \n",
       "\n",
       "   ping_loss_rate_20  ping_response_time_70_rate cpe_wifi_disabled_rate  \\\n",
       "0                0.0                         0.0                      0   \n",
       "1                0.0                         0.0                      0   \n",
       "2                0.0                         0.0                      0   \n",
       "3                0.0                         0.0                      0   \n",
       "4                0.0                         0.0                      0   \n",
       "\n",
       "   addendum_id  teo_id  point_plugin_id  client_name  \n",
       "0            0       0                0            0  \n",
       "1            0       0                0            0  \n",
       "2            0       0                0            0  \n",
       "3            0       0                0            0  \n",
       "4            0       0                0            0  \n",
       "\n",
       "[5 rows x 116 columns]"
      ]
     },
     "execution_count": 181,
     "metadata": {},
     "output_type": "execute_result"
    }
   ],
   "source": [
    "data = pd.read_excel(\"test_data.xlsx\")\n",
    "data.head()"
   ]
  },
  {
   "cell_type": "code",
   "execution_count": 182,
   "metadata": {},
   "outputs": [
    {
     "data": {
      "text/plain": [
       "(27277, 116)"
      ]
     },
     "execution_count": 182,
     "metadata": {},
     "output_type": "execute_result"
    }
   ],
   "source": [
    "data.shape"
   ]
  },
  {
   "cell_type": "code",
   "execution_count": 183,
   "metadata": {},
   "outputs": [],
   "source": [
    "Z=data.applymap(hash)"
   ]
  },
  {
   "cell_type": "code",
   "execution_count": 184,
   "metadata": {},
   "outputs": [
    {
     "data": {
      "text/html": [
       "<div>\n",
       "<style scoped>\n",
       "    .dataframe tbody tr th:only-of-type {\n",
       "        vertical-align: middle;\n",
       "    }\n",
       "\n",
       "    .dataframe tbody tr th {\n",
       "        vertical-align: top;\n",
       "    }\n",
       "\n",
       "    .dataframe thead th {\n",
       "        text-align: right;\n",
       "    }\n",
       "</style>\n",
       "<table border=\"1\" class=\"dataframe\">\n",
       "  <thead>\n",
       "    <tr style=\"text-align: right;\">\n",
       "      <th></th>\n",
       "      <th>diagnostic</th>\n",
       "      <th>service_id</th>\n",
       "      <th>agreement</th>\n",
       "      <th>services</th>\n",
       "      <th>user_requests</th>\n",
       "      <th>authentication</th>\n",
       "      <th>lost_carrier</th>\n",
       "      <th>admin_reset</th>\n",
       "      <th>disconnect_total</th>\n",
       "      <th>speed_by_tariff</th>\n",
       "      <th>...</th>\n",
       "      <th>uplink_2_bsr_sw_address</th>\n",
       "      <th>total_ping_measurements_count</th>\n",
       "      <th>ping_loss_rate_10</th>\n",
       "      <th>ping_loss_rate_20</th>\n",
       "      <th>ping_response_time_70_rate</th>\n",
       "      <th>cpe_wifi_disabled_rate</th>\n",
       "      <th>addendum_id</th>\n",
       "      <th>teo_id</th>\n",
       "      <th>point_plugin_id</th>\n",
       "      <th>client_name</th>\n",
       "    </tr>\n",
       "  </thead>\n",
       "  <tbody>\n",
       "    <tr>\n",
       "      <th>0</th>\n",
       "      <td>53187767291607010</td>\n",
       "      <td>3</td>\n",
       "      <td>102003982541</td>\n",
       "      <td>5726111273772292902</td>\n",
       "      <td>0</td>\n",
       "      <td>-3144261187809090002</td>\n",
       "      <td>0</td>\n",
       "      <td>0</td>\n",
       "      <td>0</td>\n",
       "      <td>0</td>\n",
       "      <td>...</td>\n",
       "      <td>0</td>\n",
       "      <td>0</td>\n",
       "      <td>0</td>\n",
       "      <td>0</td>\n",
       "      <td>0</td>\n",
       "      <td>0</td>\n",
       "      <td>0</td>\n",
       "      <td>0</td>\n",
       "      <td>0</td>\n",
       "      <td>0</td>\n",
       "    </tr>\n",
       "    <tr>\n",
       "      <th>1</th>\n",
       "      <td>53187767291607010</td>\n",
       "      <td>2</td>\n",
       "      <td>102003982541</td>\n",
       "      <td>5726111273772292902</td>\n",
       "      <td>2</td>\n",
       "      <td>-3144261187809090002</td>\n",
       "      <td>0</td>\n",
       "      <td>1</td>\n",
       "      <td>3</td>\n",
       "      <td>100</td>\n",
       "      <td>...</td>\n",
       "      <td>0</td>\n",
       "      <td>0</td>\n",
       "      <td>0</td>\n",
       "      <td>0</td>\n",
       "      <td>0</td>\n",
       "      <td>0</td>\n",
       "      <td>0</td>\n",
       "      <td>0</td>\n",
       "      <td>0</td>\n",
       "      <td>0</td>\n",
       "    </tr>\n",
       "    <tr>\n",
       "      <th>2</th>\n",
       "      <td>53187767291607010</td>\n",
       "      <td>3</td>\n",
       "      <td>102003982541</td>\n",
       "      <td>5726111273772292902</td>\n",
       "      <td>0</td>\n",
       "      <td>-3144261187809090002</td>\n",
       "      <td>0</td>\n",
       "      <td>0</td>\n",
       "      <td>0</td>\n",
       "      <td>0</td>\n",
       "      <td>...</td>\n",
       "      <td>0</td>\n",
       "      <td>0</td>\n",
       "      <td>0</td>\n",
       "      <td>0</td>\n",
       "      <td>0</td>\n",
       "      <td>0</td>\n",
       "      <td>0</td>\n",
       "      <td>0</td>\n",
       "      <td>0</td>\n",
       "      <td>0</td>\n",
       "    </tr>\n",
       "    <tr>\n",
       "      <th>3</th>\n",
       "      <td>53187767291607010</td>\n",
       "      <td>2</td>\n",
       "      <td>102003982541</td>\n",
       "      <td>5726111273772292902</td>\n",
       "      <td>0</td>\n",
       "      <td>-3144261187809090002</td>\n",
       "      <td>0</td>\n",
       "      <td>1</td>\n",
       "      <td>1</td>\n",
       "      <td>100</td>\n",
       "      <td>...</td>\n",
       "      <td>0</td>\n",
       "      <td>0</td>\n",
       "      <td>0</td>\n",
       "      <td>0</td>\n",
       "      <td>0</td>\n",
       "      <td>0</td>\n",
       "      <td>0</td>\n",
       "      <td>0</td>\n",
       "      <td>0</td>\n",
       "      <td>0</td>\n",
       "    </tr>\n",
       "    <tr>\n",
       "      <th>4</th>\n",
       "      <td>8439169364574506834</td>\n",
       "      <td>2</td>\n",
       "      <td>102067649743</td>\n",
       "      <td>2876319015748927366</td>\n",
       "      <td>9</td>\n",
       "      <td>-3144261187809090002</td>\n",
       "      <td>0</td>\n",
       "      <td>0</td>\n",
       "      <td>9</td>\n",
       "      <td>50</td>\n",
       "      <td>...</td>\n",
       "      <td>0</td>\n",
       "      <td>0</td>\n",
       "      <td>0</td>\n",
       "      <td>0</td>\n",
       "      <td>0</td>\n",
       "      <td>0</td>\n",
       "      <td>0</td>\n",
       "      <td>0</td>\n",
       "      <td>0</td>\n",
       "      <td>0</td>\n",
       "    </tr>\n",
       "  </tbody>\n",
       "</table>\n",
       "<p>5 rows × 116 columns</p>\n",
       "</div>"
      ],
      "text/plain": [
       "            diagnostic  service_id     agreement             services  \\\n",
       "0    53187767291607010           3  102003982541  5726111273772292902   \n",
       "1    53187767291607010           2  102003982541  5726111273772292902   \n",
       "2    53187767291607010           3  102003982541  5726111273772292902   \n",
       "3    53187767291607010           2  102003982541  5726111273772292902   \n",
       "4  8439169364574506834           2  102067649743  2876319015748927366   \n",
       "\n",
       "   user_requests       authentication  lost_carrier  admin_reset  \\\n",
       "0              0 -3144261187809090002             0            0   \n",
       "1              2 -3144261187809090002             0            1   \n",
       "2              0 -3144261187809090002             0            0   \n",
       "3              0 -3144261187809090002             0            1   \n",
       "4              9 -3144261187809090002             0            0   \n",
       "\n",
       "   disconnect_total  speed_by_tariff  ...  uplink_2_bsr_sw_address  \\\n",
       "0                 0                0  ...                        0   \n",
       "1                 3              100  ...                        0   \n",
       "2                 0                0  ...                        0   \n",
       "3                 1              100  ...                        0   \n",
       "4                 9               50  ...                        0   \n",
       "\n",
       "   total_ping_measurements_count  ping_loss_rate_10  ping_loss_rate_20  \\\n",
       "0                              0                  0                  0   \n",
       "1                              0                  0                  0   \n",
       "2                              0                  0                  0   \n",
       "3                              0                  0                  0   \n",
       "4                              0                  0                  0   \n",
       "\n",
       "   ping_response_time_70_rate  cpe_wifi_disabled_rate  addendum_id  teo_id  \\\n",
       "0                           0                       0            0       0   \n",
       "1                           0                       0            0       0   \n",
       "2                           0                       0            0       0   \n",
       "3                           0                       0            0       0   \n",
       "4                           0                       0            0       0   \n",
       "\n",
       "   point_plugin_id  client_name  \n",
       "0                0            0  \n",
       "1                0            0  \n",
       "2                0            0  \n",
       "3                0            0  \n",
       "4                0            0  \n",
       "\n",
       "[5 rows x 116 columns]"
      ]
     },
     "execution_count": 184,
     "metadata": {},
     "output_type": "execute_result"
    }
   ],
   "source": [
    "Z.head()"
   ]
  },
  {
   "cell_type": "code",
   "execution_count": null,
   "metadata": {},
   "outputs": [],
   "source": []
  },
  {
   "cell_type": "code",
   "execution_count": 185,
   "metadata": {},
   "outputs": [],
   "source": [
    "X = Z[Z.columns[1:]]\n",
    "Y = Z[\"diagnostic\"]"
   ]
  },
  {
   "cell_type": "code",
   "execution_count": 186,
   "metadata": {},
   "outputs": [
    {
     "data": {
      "text/html": [
       "<div>\n",
       "<style scoped>\n",
       "    .dataframe tbody tr th:only-of-type {\n",
       "        vertical-align: middle;\n",
       "    }\n",
       "\n",
       "    .dataframe tbody tr th {\n",
       "        vertical-align: top;\n",
       "    }\n",
       "\n",
       "    .dataframe thead th {\n",
       "        text-align: right;\n",
       "    }\n",
       "</style>\n",
       "<table border=\"1\" class=\"dataframe\">\n",
       "  <thead>\n",
       "    <tr style=\"text-align: right;\">\n",
       "      <th></th>\n",
       "      <th>service_id</th>\n",
       "      <th>agreement</th>\n",
       "      <th>services</th>\n",
       "      <th>user_requests</th>\n",
       "      <th>authentication</th>\n",
       "      <th>lost_carrier</th>\n",
       "      <th>admin_reset</th>\n",
       "      <th>disconnect_total</th>\n",
       "      <th>speed_by_tariff</th>\n",
       "      <th>speed_by_bonus</th>\n",
       "      <th>...</th>\n",
       "      <th>uplink_2_bsr_sw_address</th>\n",
       "      <th>total_ping_measurements_count</th>\n",
       "      <th>ping_loss_rate_10</th>\n",
       "      <th>ping_loss_rate_20</th>\n",
       "      <th>ping_response_time_70_rate</th>\n",
       "      <th>cpe_wifi_disabled_rate</th>\n",
       "      <th>addendum_id</th>\n",
       "      <th>teo_id</th>\n",
       "      <th>point_plugin_id</th>\n",
       "      <th>client_name</th>\n",
       "    </tr>\n",
       "  </thead>\n",
       "  <tbody>\n",
       "    <tr>\n",
       "      <th>0</th>\n",
       "      <td>3</td>\n",
       "      <td>102003982541</td>\n",
       "      <td>5726111273772292902</td>\n",
       "      <td>0</td>\n",
       "      <td>-3144261187809090002</td>\n",
       "      <td>0</td>\n",
       "      <td>0</td>\n",
       "      <td>0</td>\n",
       "      <td>0</td>\n",
       "      <td>0</td>\n",
       "      <td>...</td>\n",
       "      <td>0</td>\n",
       "      <td>0</td>\n",
       "      <td>0</td>\n",
       "      <td>0</td>\n",
       "      <td>0</td>\n",
       "      <td>0</td>\n",
       "      <td>0</td>\n",
       "      <td>0</td>\n",
       "      <td>0</td>\n",
       "      <td>0</td>\n",
       "    </tr>\n",
       "    <tr>\n",
       "      <th>1</th>\n",
       "      <td>2</td>\n",
       "      <td>102003982541</td>\n",
       "      <td>5726111273772292902</td>\n",
       "      <td>2</td>\n",
       "      <td>-3144261187809090002</td>\n",
       "      <td>0</td>\n",
       "      <td>1</td>\n",
       "      <td>3</td>\n",
       "      <td>100</td>\n",
       "      <td>0</td>\n",
       "      <td>...</td>\n",
       "      <td>0</td>\n",
       "      <td>0</td>\n",
       "      <td>0</td>\n",
       "      <td>0</td>\n",
       "      <td>0</td>\n",
       "      <td>0</td>\n",
       "      <td>0</td>\n",
       "      <td>0</td>\n",
       "      <td>0</td>\n",
       "      <td>0</td>\n",
       "    </tr>\n",
       "    <tr>\n",
       "      <th>2</th>\n",
       "      <td>3</td>\n",
       "      <td>102003982541</td>\n",
       "      <td>5726111273772292902</td>\n",
       "      <td>0</td>\n",
       "      <td>-3144261187809090002</td>\n",
       "      <td>0</td>\n",
       "      <td>0</td>\n",
       "      <td>0</td>\n",
       "      <td>0</td>\n",
       "      <td>0</td>\n",
       "      <td>...</td>\n",
       "      <td>0</td>\n",
       "      <td>0</td>\n",
       "      <td>0</td>\n",
       "      <td>0</td>\n",
       "      <td>0</td>\n",
       "      <td>0</td>\n",
       "      <td>0</td>\n",
       "      <td>0</td>\n",
       "      <td>0</td>\n",
       "      <td>0</td>\n",
       "    </tr>\n",
       "    <tr>\n",
       "      <th>3</th>\n",
       "      <td>2</td>\n",
       "      <td>102003982541</td>\n",
       "      <td>5726111273772292902</td>\n",
       "      <td>0</td>\n",
       "      <td>-3144261187809090002</td>\n",
       "      <td>0</td>\n",
       "      <td>1</td>\n",
       "      <td>1</td>\n",
       "      <td>100</td>\n",
       "      <td>0</td>\n",
       "      <td>...</td>\n",
       "      <td>0</td>\n",
       "      <td>0</td>\n",
       "      <td>0</td>\n",
       "      <td>0</td>\n",
       "      <td>0</td>\n",
       "      <td>0</td>\n",
       "      <td>0</td>\n",
       "      <td>0</td>\n",
       "      <td>0</td>\n",
       "      <td>0</td>\n",
       "    </tr>\n",
       "    <tr>\n",
       "      <th>4</th>\n",
       "      <td>2</td>\n",
       "      <td>102067649743</td>\n",
       "      <td>2876319015748927366</td>\n",
       "      <td>9</td>\n",
       "      <td>-3144261187809090002</td>\n",
       "      <td>0</td>\n",
       "      <td>0</td>\n",
       "      <td>9</td>\n",
       "      <td>50</td>\n",
       "      <td>0</td>\n",
       "      <td>...</td>\n",
       "      <td>0</td>\n",
       "      <td>0</td>\n",
       "      <td>0</td>\n",
       "      <td>0</td>\n",
       "      <td>0</td>\n",
       "      <td>0</td>\n",
       "      <td>0</td>\n",
       "      <td>0</td>\n",
       "      <td>0</td>\n",
       "      <td>0</td>\n",
       "    </tr>\n",
       "  </tbody>\n",
       "</table>\n",
       "<p>5 rows × 115 columns</p>\n",
       "</div>"
      ],
      "text/plain": [
       "   service_id     agreement             services  user_requests  \\\n",
       "0           3  102003982541  5726111273772292902              0   \n",
       "1           2  102003982541  5726111273772292902              2   \n",
       "2           3  102003982541  5726111273772292902              0   \n",
       "3           2  102003982541  5726111273772292902              0   \n",
       "4           2  102067649743  2876319015748927366              9   \n",
       "\n",
       "        authentication  lost_carrier  admin_reset  disconnect_total  \\\n",
       "0 -3144261187809090002             0            0                 0   \n",
       "1 -3144261187809090002             0            1                 3   \n",
       "2 -3144261187809090002             0            0                 0   \n",
       "3 -3144261187809090002             0            1                 1   \n",
       "4 -3144261187809090002             0            0                 9   \n",
       "\n",
       "   speed_by_tariff  speed_by_bonus  ...  uplink_2_bsr_sw_address  \\\n",
       "0                0               0  ...                        0   \n",
       "1              100               0  ...                        0   \n",
       "2                0               0  ...                        0   \n",
       "3              100               0  ...                        0   \n",
       "4               50               0  ...                        0   \n",
       "\n",
       "   total_ping_measurements_count  ping_loss_rate_10  ping_loss_rate_20  \\\n",
       "0                              0                  0                  0   \n",
       "1                              0                  0                  0   \n",
       "2                              0                  0                  0   \n",
       "3                              0                  0                  0   \n",
       "4                              0                  0                  0   \n",
       "\n",
       "   ping_response_time_70_rate  cpe_wifi_disabled_rate  addendum_id  teo_id  \\\n",
       "0                           0                       0            0       0   \n",
       "1                           0                       0            0       0   \n",
       "2                           0                       0            0       0   \n",
       "3                           0                       0            0       0   \n",
       "4                           0                       0            0       0   \n",
       "\n",
       "   point_plugin_id  client_name  \n",
       "0                0            0  \n",
       "1                0            0  \n",
       "2                0            0  \n",
       "3                0            0  \n",
       "4                0            0  \n",
       "\n",
       "[5 rows x 115 columns]"
      ]
     },
     "execution_count": 186,
     "metadata": {},
     "output_type": "execute_result"
    }
   ],
   "source": [
    "X.head()"
   ]
  },
  {
   "cell_type": "code",
   "execution_count": null,
   "metadata": {},
   "outputs": [],
   "source": []
  },
  {
   "cell_type": "code",
   "execution_count": 187,
   "metadata": {},
   "outputs": [
    {
     "data": {
      "text/plain": [
       "0      53187767291607010\n",
       "1      53187767291607010\n",
       "2      53187767291607010\n",
       "3      53187767291607010\n",
       "4    8439169364574506834\n",
       "Name: diagnostic, dtype: int64"
      ]
     },
     "execution_count": 187,
     "metadata": {},
     "output_type": "execute_result"
    }
   ],
   "source": [
    "Y.head()"
   ]
  },
  {
   "cell_type": "code",
   "execution_count": 188,
   "metadata": {},
   "outputs": [],
   "source": [
    "import hashlib"
   ]
  },
  {
   "cell_type": "code",
   "execution_count": 189,
   "metadata": {},
   "outputs": [],
   "source": [
    "#Z=X.applymap(hash)"
   ]
  },
  {
   "cell_type": "code",
   "execution_count": 191,
   "metadata": {},
   "outputs": [],
   "source": [
    "#Q=Y.applymap(hash)"
   ]
  },
  {
   "cell_type": "code",
   "execution_count": 192,
   "metadata": {},
   "outputs": [
    {
     "data": {
      "text/html": [
       "<div>\n",
       "<style scoped>\n",
       "    .dataframe tbody tr th:only-of-type {\n",
       "        vertical-align: middle;\n",
       "    }\n",
       "\n",
       "    .dataframe tbody tr th {\n",
       "        vertical-align: top;\n",
       "    }\n",
       "\n",
       "    .dataframe thead th {\n",
       "        text-align: right;\n",
       "    }\n",
       "</style>\n",
       "<table border=\"1\" class=\"dataframe\">\n",
       "  <thead>\n",
       "    <tr style=\"text-align: right;\">\n",
       "      <th></th>\n",
       "      <th>service_id</th>\n",
       "      <th>agreement</th>\n",
       "      <th>services</th>\n",
       "      <th>user_requests</th>\n",
       "      <th>authentication</th>\n",
       "      <th>lost_carrier</th>\n",
       "      <th>admin_reset</th>\n",
       "      <th>disconnect_total</th>\n",
       "      <th>speed_by_tariff</th>\n",
       "      <th>speed_by_bonus</th>\n",
       "      <th>...</th>\n",
       "      <th>uplink_2_bsr_sw_address</th>\n",
       "      <th>total_ping_measurements_count</th>\n",
       "      <th>ping_loss_rate_10</th>\n",
       "      <th>ping_loss_rate_20</th>\n",
       "      <th>ping_response_time_70_rate</th>\n",
       "      <th>cpe_wifi_disabled_rate</th>\n",
       "      <th>addendum_id</th>\n",
       "      <th>teo_id</th>\n",
       "      <th>point_plugin_id</th>\n",
       "      <th>client_name</th>\n",
       "    </tr>\n",
       "  </thead>\n",
       "  <tbody>\n",
       "    <tr>\n",
       "      <th>0</th>\n",
       "      <td>3</td>\n",
       "      <td>102003982541</td>\n",
       "      <td>1114425255344905000</td>\n",
       "      <td>0</td>\n",
       "      <td>-838418178595396051</td>\n",
       "      <td>0</td>\n",
       "      <td>0</td>\n",
       "      <td>0</td>\n",
       "      <td>0</td>\n",
       "      <td>0</td>\n",
       "      <td>...</td>\n",
       "      <td>0</td>\n",
       "      <td>0</td>\n",
       "      <td>0</td>\n",
       "      <td>0</td>\n",
       "      <td>0</td>\n",
       "      <td>0</td>\n",
       "      <td>0</td>\n",
       "      <td>0</td>\n",
       "      <td>0</td>\n",
       "      <td>0</td>\n",
       "    </tr>\n",
       "    <tr>\n",
       "      <th>1</th>\n",
       "      <td>2</td>\n",
       "      <td>102003982541</td>\n",
       "      <td>1114425255344905000</td>\n",
       "      <td>2</td>\n",
       "      <td>-838418178595396051</td>\n",
       "      <td>0</td>\n",
       "      <td>1</td>\n",
       "      <td>3</td>\n",
       "      <td>100</td>\n",
       "      <td>0</td>\n",
       "      <td>...</td>\n",
       "      <td>0</td>\n",
       "      <td>0</td>\n",
       "      <td>0</td>\n",
       "      <td>0</td>\n",
       "      <td>0</td>\n",
       "      <td>0</td>\n",
       "      <td>0</td>\n",
       "      <td>0</td>\n",
       "      <td>0</td>\n",
       "      <td>0</td>\n",
       "    </tr>\n",
       "    <tr>\n",
       "      <th>2</th>\n",
       "      <td>3</td>\n",
       "      <td>102003982541</td>\n",
       "      <td>1114425255344905000</td>\n",
       "      <td>0</td>\n",
       "      <td>-838418178595396051</td>\n",
       "      <td>0</td>\n",
       "      <td>0</td>\n",
       "      <td>0</td>\n",
       "      <td>0</td>\n",
       "      <td>0</td>\n",
       "      <td>...</td>\n",
       "      <td>0</td>\n",
       "      <td>0</td>\n",
       "      <td>0</td>\n",
       "      <td>0</td>\n",
       "      <td>0</td>\n",
       "      <td>0</td>\n",
       "      <td>0</td>\n",
       "      <td>0</td>\n",
       "      <td>0</td>\n",
       "      <td>0</td>\n",
       "    </tr>\n",
       "    <tr>\n",
       "      <th>3</th>\n",
       "      <td>2</td>\n",
       "      <td>102003982541</td>\n",
       "      <td>1114425255344905000</td>\n",
       "      <td>0</td>\n",
       "      <td>-838418178595396051</td>\n",
       "      <td>0</td>\n",
       "      <td>1</td>\n",
       "      <td>1</td>\n",
       "      <td>100</td>\n",
       "      <td>0</td>\n",
       "      <td>...</td>\n",
       "      <td>0</td>\n",
       "      <td>0</td>\n",
       "      <td>0</td>\n",
       "      <td>0</td>\n",
       "      <td>0</td>\n",
       "      <td>0</td>\n",
       "      <td>0</td>\n",
       "      <td>0</td>\n",
       "      <td>0</td>\n",
       "      <td>0</td>\n",
       "    </tr>\n",
       "    <tr>\n",
       "      <th>4</th>\n",
       "      <td>2</td>\n",
       "      <td>102067649743</td>\n",
       "      <td>570476006535233415</td>\n",
       "      <td>9</td>\n",
       "      <td>-838418178595396051</td>\n",
       "      <td>0</td>\n",
       "      <td>0</td>\n",
       "      <td>9</td>\n",
       "      <td>50</td>\n",
       "      <td>0</td>\n",
       "      <td>...</td>\n",
       "      <td>0</td>\n",
       "      <td>0</td>\n",
       "      <td>0</td>\n",
       "      <td>0</td>\n",
       "      <td>0</td>\n",
       "      <td>0</td>\n",
       "      <td>0</td>\n",
       "      <td>0</td>\n",
       "      <td>0</td>\n",
       "      <td>0</td>\n",
       "    </tr>\n",
       "  </tbody>\n",
       "</table>\n",
       "<p>5 rows × 115 columns</p>\n",
       "</div>"
      ],
      "text/plain": [
       "   service_id     agreement             services  user_requests  \\\n",
       "0           3  102003982541  1114425255344905000              0   \n",
       "1           2  102003982541  1114425255344905000              2   \n",
       "2           3  102003982541  1114425255344905000              0   \n",
       "3           2  102003982541  1114425255344905000              0   \n",
       "4           2  102067649743   570476006535233415              9   \n",
       "\n",
       "       authentication  lost_carrier  admin_reset  disconnect_total  \\\n",
       "0 -838418178595396051             0            0                 0   \n",
       "1 -838418178595396051             0            1                 3   \n",
       "2 -838418178595396051             0            0                 0   \n",
       "3 -838418178595396051             0            1                 1   \n",
       "4 -838418178595396051             0            0                 9   \n",
       "\n",
       "   speed_by_tariff  speed_by_bonus  ...  uplink_2_bsr_sw_address  \\\n",
       "0                0               0  ...                        0   \n",
       "1              100               0  ...                        0   \n",
       "2                0               0  ...                        0   \n",
       "3              100               0  ...                        0   \n",
       "4               50               0  ...                        0   \n",
       "\n",
       "   total_ping_measurements_count  ping_loss_rate_10  ping_loss_rate_20  \\\n",
       "0                              0                  0                  0   \n",
       "1                              0                  0                  0   \n",
       "2                              0                  0                  0   \n",
       "3                              0                  0                  0   \n",
       "4                              0                  0                  0   \n",
       "\n",
       "   ping_response_time_70_rate  cpe_wifi_disabled_rate  addendum_id  teo_id  \\\n",
       "0                           0                       0            0       0   \n",
       "1                           0                       0            0       0   \n",
       "2                           0                       0            0       0   \n",
       "3                           0                       0            0       0   \n",
       "4                           0                       0            0       0   \n",
       "\n",
       "   point_plugin_id  client_name  \n",
       "0                0            0  \n",
       "1                0            0  \n",
       "2                0            0  \n",
       "3                0            0  \n",
       "4                0            0  \n",
       "\n",
       "[5 rows x 115 columns]"
      ]
     },
     "execution_count": 192,
     "metadata": {},
     "output_type": "execute_result"
    }
   ],
   "source": [
    "#Y.applymap(hash)\n",
    "#Y['hash'] = Y[\"diagnostic\"].apply(hash)\n",
    "Z.head()"
   ]
  },
  {
   "cell_type": "code",
   "execution_count": 193,
   "metadata": {},
   "outputs": [],
   "source": [
    "from sklearn.model_selection import train_test_split\n"
   ]
  },
  {
   "cell_type": "code",
   "execution_count": 194,
   "metadata": {},
   "outputs": [],
   "source": [
    "X_tr, X_te, Y_tr, Y_te = train_test_split(X, Y, test_size=0.3)"
   ]
  },
  {
   "cell_type": "code",
   "execution_count": 195,
   "metadata": {},
   "outputs": [
    {
     "data": {
      "text/plain": [
       "(19093, 115)"
      ]
     },
     "execution_count": 195,
     "metadata": {},
     "output_type": "execute_result"
    }
   ],
   "source": [
    "X_tr.shape"
   ]
  },
  {
   "cell_type": "code",
   "execution_count": 196,
   "metadata": {},
   "outputs": [
    {
     "data": {
      "text/plain": [
       "13368   -3633794704274160883\n",
       "1248       53187767291607010\n",
       "14250    1110972158899987739\n",
       "19368    3590658830776476429\n",
       "15588      53187767291607010\n",
       "                ...         \n",
       "11426    1110972158899987739\n",
       "12033      53187767291607010\n",
       "22443    9144898010819419959\n",
       "11609    1110972158899987739\n",
       "25008    1110972158899987739\n",
       "Name: diagnostic, Length: 19093, dtype: int64"
      ]
     },
     "execution_count": 196,
     "metadata": {},
     "output_type": "execute_result"
    }
   ],
   "source": [
    "Y_tr"
   ]
  },
  {
   "cell_type": "code",
   "execution_count": 197,
   "metadata": {},
   "outputs": [
    {
     "data": {
      "text/plain": [
       "(8184, 115)"
      ]
     },
     "execution_count": 197,
     "metadata": {},
     "output_type": "execute_result"
    }
   ],
   "source": [
    "X_te.shape"
   ]
  },
  {
   "cell_type": "code",
   "execution_count": 198,
   "metadata": {},
   "outputs": [],
   "source": [
    "#НЕЙРОСЕТЬ"
   ]
  },
  {
   "cell_type": "code",
   "execution_count": 215,
   "metadata": {},
   "outputs": [],
   "source": [
    "from sklearn.neural_network import MLPRegressor"
   ]
  },
  {
   "cell_type": "code",
   "execution_count": 239,
   "metadata": {},
   "outputs": [
    {
     "data": {
      "text/plain": [
       "MLPRegressor(hidden_layer_sizes=[15, 15, 15, 15], max_iter=1280)"
      ]
     },
     "execution_count": 239,
     "metadata": {},
     "output_type": "execute_result"
    }
   ],
   "source": [
    "model = MLPRegressor(hidden_layer_sizes=[15, 15, 15, 15], max_iter=1280)\n",
    "model.fit(X_tr, Y_tr)"
   ]
  },
  {
   "cell_type": "code",
   "execution_count": 240,
   "metadata": {},
   "outputs": [],
   "source": [
    "preds_tr_nn = model.predict(X_tr)\n",
    "preds_te_nn = model.predict(X_te)"
   ]
  },
  {
   "cell_type": "code",
   "execution_count": 241,
   "metadata": {},
   "outputs": [
    {
     "data": {
      "text/plain": [
       "array([ 1.46471260e+18,  1.28246343e+18,  1.34791340e+18,  5.00792839e+17,\n",
       "        1.06029843e+18, -8.11532569e+17,  1.00482340e+18,  1.51220441e+18,\n",
       "        1.15229879e+18,  1.10492111e+18])"
      ]
     },
     "execution_count": 241,
     "metadata": {},
     "output_type": "execute_result"
    }
   ],
   "source": [
    "preds_te_nn[:10]"
   ]
  },
  {
   "cell_type": "code",
   "execution_count": 242,
   "metadata": {},
   "outputs": [
    {
     "data": {
      "text/plain": [
       "array([-2297104990900842416, -3633794704274160883,  1110972158899987739,\n",
       "        2713981064781459028, -2354911607258886877,  2713981064781459028,\n",
       "       -2354911607258886877, -3837673547609997360,  1110972158899987739,\n",
       "        2713981064781459028])"
      ]
     },
     "execution_count": 242,
     "metadata": {},
     "output_type": "execute_result"
    }
   ],
   "source": [
    "Y_te[:10].values"
   ]
  },
  {
   "cell_type": "code",
   "execution_count": 243,
   "metadata": {},
   "outputs": [],
   "source": [
    "from sklearn.metrics import mean_absolute_error"
   ]
  },
  {
   "cell_type": "code",
   "execution_count": 244,
   "metadata": {},
   "outputs": [
    {
     "data": {
      "text/plain": [
       "2.545133789632517e+18"
      ]
     },
     "execution_count": 244,
     "metadata": {},
     "output_type": "execute_result"
    }
   ],
   "source": [
    "mean_absolute_error(Y_tr, preds_tr_nn)"
   ]
  },
  {
   "cell_type": "code",
   "execution_count": 245,
   "metadata": {},
   "outputs": [
    {
     "data": {
      "text/plain": [
       "2.676519784664011e+18"
      ]
     },
     "execution_count": 245,
     "metadata": {},
     "output_type": "execute_result"
    }
   ],
   "source": [
    "mean_absolute_error(Y_te, preds_te_nn)"
   ]
  },
  {
   "cell_type": "code",
   "execution_count": 258,
   "metadata": {},
   "outputs": [],
   "source": [
    "#accuracy_score(Y_te, preds_te_nn)"
   ]
  },
  {
   "cell_type": "code",
   "execution_count": 259,
   "metadata": {},
   "outputs": [],
   "source": [
    "#recall(Y_te, preds_te)"
   ]
  },
  {
   "cell_type": "code",
   "execution_count": 260,
   "metadata": {},
   "outputs": [],
   "source": [
    "#kNN"
   ]
  },
  {
   "cell_type": "code",
   "execution_count": 261,
   "metadata": {},
   "outputs": [],
   "source": [
    "from sklearn.neighbors import KNeighborsRegressor"
   ]
  },
  {
   "cell_type": "code",
   "execution_count": 268,
   "metadata": {},
   "outputs": [
    {
     "data": {
      "text/plain": [
       "KNeighborsRegressor()"
      ]
     },
     "execution_count": 268,
     "metadata": {},
     "output_type": "execute_result"
    }
   ],
   "source": [
    "kNN = KNeighborsRegressor(n_neighbors=5)\n",
    "kNN.fit(X_tr, Y_tr)"
   ]
  },
  {
   "cell_type": "code",
   "execution_count": null,
   "metadata": {},
   "outputs": [],
   "source": [
    "preds_tr_knn = kNN.predict(X_tr)\n",
    "preds_te_knn = kNN.predict(X_te)"
   ]
  },
  {
   "cell_type": "code",
   "execution_count": null,
   "metadata": {},
   "outputs": [],
   "source": []
  },
  {
   "cell_type": "code",
   "execution_count": null,
   "metadata": {},
   "outputs": [],
   "source": [
    "mean_absolute_error(Y_tr, preds_tr_knn)"
   ]
  },
  {
   "cell_type": "code",
   "execution_count": null,
   "metadata": {},
   "outputs": [],
   "source": [
    "mean_absolute_error(Y_te, preds_te_knn)"
   ]
  },
  {
   "cell_type": "code",
   "execution_count": 254,
   "metadata": {},
   "outputs": [
    {
     "data": {
      "text/plain": [
       "0.011974584555229716"
      ]
     },
     "execution_count": 254,
     "metadata": {},
     "output_type": "execute_result"
    }
   ],
   "source": [
    "#accuracy_score(Y_te, preds_te_knn)"
   ]
  },
  {
   "cell_type": "code",
   "execution_count": 267,
   "metadata": {},
   "outputs": [],
   "source": [
    "#accuracy_score(Y_tr, preds_tr_knn)"
   ]
  },
  {
   "cell_type": "code",
   "execution_count": null,
   "metadata": {},
   "outputs": [],
   "source": []
  }
 ],
 "metadata": {
  "kernelspec": {
   "display_name": "Python 3",
   "language": "python",
   "name": "python3"
  },
  "language_info": {
   "codemirror_mode": {
    "name": "ipython",
    "version": 3
   },
   "file_extension": ".py",
   "mimetype": "text/x-python",
   "name": "python",
   "nbconvert_exporter": "python",
   "pygments_lexer": "ipython3",
   "version": "3.8.5"
  }
 },
 "nbformat": 4,
 "nbformat_minor": 4
}
